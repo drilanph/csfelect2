{
 "cells": [
  {
   "cell_type": "code",
   "execution_count": null,
   "metadata": {},
   "outputs": [],
   "source": [
    "import matplotlib\n",
    "import matplotlib.pyplot as plt\n",
    "import numpy as np"
   ]
  },
  {
   "cell_type": "code",
   "execution_count": null,
   "metadata": {},
   "outputs": [],
   "source": [
    "a = [1,2,3,4]\n",
    "b = [5,6,7,8]"
   ]
  },
  {
   "cell_type": "code",
   "execution_count": null,
   "metadata": {},
   "outputs": [],
   "source": [
    "c = np.multiply(a,b)"
   ]
  },
  {
   "cell_type": "code",
   "execution_count": null,
   "metadata": {},
   "outputs": [],
   "source": [
    "print(a)\n",
    "print(b)\n",
    "print(c)"
   ]
  },
  {
   "cell_type": "code",
   "execution_count": null,
   "metadata": {},
   "outputs": [],
   "source": [
    "plt.plot(a,a,\"r\")\n",
    "plt.ylabel(\"values of a\")\n",
    "plt.xlabel(\"values of a\")\n",
    "plt.title(\"Graph with single Y axes\")\n",
    "plt.show()"
   ]
  },
  {
   "cell_type": "code",
   "execution_count": null,
   "metadata": {},
   "outputs": [],
   "source": [
    "plt.plot(a,b\"g\")\n",
    "plt.ylabel(\"values of b\")\n",
    "plt.xlabel(\"values of a\")\n",
    "plt.title(\"Graph with single Y axes\")\n",
    "plt.show()"
   ]
  },
  {
   "cell_type": "code",
   "execution_count": null,
   "metadata": {},
   "outputs": [],
   "source": [
    "plt.plot(a,c\"b\")\n",
    "plt.ylabel(\"values of c\")\n",
    "plt.xlabel(\"values of a\")\n",
    "plt.title(\"Graph with single Y axes\")\n",
    "plt.show()"
   ]
  },
  {
   "cell_type": "code",
   "execution_count": null,
   "metadata": {},
   "outputs": [],
   "source": [
    "plt.figure(1)\n",
    "\n",
    "plt.subplot(131)\n",
    "plt.plot(a,a,\"r\")\n",
    "plt.ylabel(\"values of a\")\n",
    "plt.xlabel(\"values of a\")\n",
    "plt.ylim(0,max(c))\n",
    "\n",
    "plt.subplot(132)\n",
    "plt.plot(a,b,\"g\")\n",
    "plt.ylabel(\"values of b\")\n",
    "plt.xlabel(\"values of a\")\n",
    "plt.ylim(0,max(c))\n",
    "\n",
    "plt.subplot(133)\n",
    "plt.plot(a,c,\"b\")\n",
    "plt.ylabel(\"values of c\")\n",
    "plt.xlabel(\"values of a\")\n",
    "plt.ylim(0,max(c))\n",
    "\n",
    "plt.title(\"Graph in Equal size of Axes\")\n",
    "plt.show()\n"
   ]
  }
 ],
 "metadata": {
  "kernelspec": {
   "display_name": "Python 3",
   "language": "python",
   "name": "python3"
  }
 },
 "nbformat": 4,
 "nbformat_minor": 2
}
